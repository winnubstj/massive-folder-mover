{
 "cells": [
  {
   "cell_type": "markdown",
   "id": "7d914787",
   "metadata": {},
   "source": [
    "# Define Paths"
   ]
  },
  {
   "cell_type": "code",
   "execution_count": 16,
   "id": "c9d8e2ab",
   "metadata": {},
   "outputs": [],
   "source": [
    "from pathlib import Path\n",
    "source_path = Path(\"W:/test-source\")\n",
    "dest_path = Path(\"W:/test-dest\")\n",
    "\n",
    "retry_attemps = 3"
   ]
  },
  {
   "cell_type": "code",
   "execution_count": 23,
   "id": "da341716",
   "metadata": {},
   "outputs": [
    {
     "ename": "ModuleNotFoundError",
     "evalue": "No module named 'tqdm'",
     "output_type": "error",
     "traceback": [
      "\u001b[1;31m---------------------------------------------------------------------------\u001b[0m",
      "\u001b[1;31mModuleNotFoundError\u001b[0m                       Traceback (most recent call last)",
      "Input \u001b[1;32mIn [23]\u001b[0m, in \u001b[0;36m<cell line: 1>\u001b[1;34m()\u001b[0m\n\u001b[1;32m----> 1\u001b[0m \u001b[38;5;28;01mfrom\u001b[39;00m \u001b[38;5;21;01mtqdm\u001b[39;00m\u001b[38;5;21;01m.\u001b[39;00m\u001b[38;5;21;01mnotebook\u001b[39;00m \u001b[38;5;28;01mimport\u001b[39;00m tqdm\n\u001b[0;32m      2\u001b[0m \u001b[38;5;66;03m# get all files.\u001b[39;00m\n\u001b[0;32m      3\u001b[0m \u001b[38;5;28;01mfor\u001b[39;00m source_file \u001b[38;5;129;01min\u001b[39;00m tqdm(source_path\u001b[38;5;241m.\u001b[39mrglob(\u001b[38;5;124m'\u001b[39m\u001b[38;5;124m*\u001b[39m\u001b[38;5;124m'\u001b[39m)):\n\u001b[0;32m      4\u001b[0m     \u001b[38;5;66;03m# check if file.\u001b[39;00m\n",
      "\u001b[1;31mModuleNotFoundError\u001b[0m: No module named 'tqdm'"
     ]
    }
   ],
   "source": [
    "from tqdm.notebook import tqdm\n",
    "# get all files.\n",
    "for source_file in tqdm(source_path.rglob('*')):\n",
    "    # check if file.\n",
    "    if source_file.is_file:\n",
    "        # Get relative file path.\n",
    "        relative_file_path = source_file.relative_to(source_path)\n",
    "        print(relative_file_path)"
   ]
  },
  {
   "cell_type": "markdown",
   "id": "aef3e955",
   "metadata": {},
   "source": [
    "# Appendix\n",
    "## Create test data"
   ]
  },
  {
   "cell_type": "code",
   "execution_count": 14,
   "id": "30f4973a",
   "metadata": {},
   "outputs": [],
   "source": [
    "def create_dummy_file(file_loc,file_size_mb):\n",
    "    with open(file_loc, 'wb') as f:\n",
    "        f.seek(file_size_mb * 1024 * 1024) # One GB\n",
    "        f.write(b'\\x21')"
   ]
  },
  {
   "cell_type": "markdown",
   "id": "43c210cd",
   "metadata": {},
   "source": [
    "### Create 5 dummy files in source"
   ]
  },
  {
   "cell_type": "code",
   "execution_count": 15,
   "id": "c95dec33",
   "metadata": {},
   "outputs": [],
   "source": [
    "for i in range(5):\n",
    "    create_dummy_file(source_path/f\"{i}.dummy\",100)"
   ]
  }
 ],
 "metadata": {
  "kernelspec": {
   "display_name": "Python 3 (ipykernel)",
   "language": "python",
   "name": "python3"
  },
  "language_info": {
   "codemirror_mode": {
    "name": "ipython",
    "version": 3
   },
   "file_extension": ".py",
   "mimetype": "text/x-python",
   "name": "python",
   "nbconvert_exporter": "python",
   "pygments_lexer": "ipython3",
   "version": "3.8.13"
  }
 },
 "nbformat": 4,
 "nbformat_minor": 5
}
