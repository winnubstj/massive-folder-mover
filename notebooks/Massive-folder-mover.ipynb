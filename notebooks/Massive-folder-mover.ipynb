{
 "cells": [
  {
   "cell_type": "markdown",
   "id": "991dce62",
   "metadata": {},
   "source": [
    "# Define Paths"
   ]
  },
  {
   "cell_type": "code",
   "execution_count": 70,
   "id": "dfc96a60",
   "metadata": {},
   "outputs": [],
   "source": [
    "from pathlib import Path\n",
    "source_path = Path(\"W:/test-source\")\n",
    "dest_path = Path(\"W:/test-dest\")\n"
   ]
  },
  {
   "cell_type": "code",
   "execution_count": 96,
   "id": "9bd66b66",
   "metadata": {},
   "outputs": [
    {
     "data": {
      "text/plain": [
       "'Total moved: 5 files, 0.524 GB'"
      ]
     },
     "metadata": {},
     "output_type": "display_data"
    },
    {
     "data": {
      "text/plain": [
       "'Last file: 4.dummy (0.105 GB)'"
      ]
     },
     "metadata": {},
     "output_type": "display_data"
    }
   ],
   "source": [
    "import filecmp\n",
    "from tqdm.notebook import tqdm\n",
    "from IPython.display import display, clear_output\n",
    "import shutil\n",
    "\n",
    "# ensure destination folder exists.\n",
    "dest_path.mkdir(parents=True, exist_ok=True)\n",
    "# get all files.\n",
    "total_moved_gb = 0\n",
    "total_moved_files = 0\n",
    "for source_file in source_path.rglob('*'):\n",
    "    # if this is a folder check if its empty.\n",
    "    if source_file.is_dir():\n",
    "        if not any(source_file.iterdir()):\n",
    "            source_file.rmdir()\n",
    "    # check if file.\n",
    "    if source_file.is_file():\n",
    "        # Get relative file path.\n",
    "        relative_file_path = source_file.relative_to(source_path)\n",
    "        destination_file = dest_path/relative_file_path\n",
    "        # check if file already exists.\n",
    "        if destination_file.is_file():\n",
    "            # check if files are the same size.\n",
    "            if filecmp.cmp(source_file,destination_file,shallow=True):\n",
    "                # delete source file.\n",
    "                remove_file = True\n",
    "                move_file = False\n",
    "            else:\n",
    "                remove_file = False\n",
    "                move_file = True\n",
    "        # file not yet present\n",
    "        else:\n",
    "            remove_file = False\n",
    "            move_file = True\n",
    "        # copy file.\n",
    "        if move_file:\n",
    "            # check if directory exists.\n",
    "            destination_file.parent.mkdir(parents=True, exist_ok=True)\n",
    "            shutil.copy2(source_file,destination_file)\n",
    "            # check succesfull copy.\n",
    "            if filecmp.cmp(source_file,destination_file,shallow=True):\n",
    "                remove_file = True\n",
    "            else:\n",
    "                remove_file = False\n",
    "    if remove_file:\n",
    "        total_moved_files+=1\n",
    "        file_size_gb = source_file.stat().st_size*10**-9\n",
    "        total_moved_gb += file_size_gb\n",
    "        source_file.unlink()\n",
    "        clear_output(wait=True)\n",
    "        display(f\"Total moved: {total_moved_files} files, {total_moved_gb:.3f} GB\")\n",
    "        display(f\"Last file: {relative_file_path} ({file_size_gb:.3f} GB)\")"
   ]
  },
  {
   "cell_type": "markdown",
   "id": "8b0f3e1a",
   "metadata": {},
   "source": [
    "# Appendix\n",
    "## Create test data"
   ]
  },
  {
   "cell_type": "code",
   "execution_count": 15,
   "id": "72b282c8",
   "metadata": {},
   "outputs": [],
   "source": [
    "def create_dummy_file(file_loc,file_size_mb):\n",
    "    with open(file_loc, 'wb') as f:\n",
    "        f.seek(file_size_mb * 1024 * 1024) # One GB\n",
    "        f.write(b'\\x21')"
   ]
  },
  {
   "cell_type": "markdown",
   "id": "53ccf6fe",
   "metadata": {},
   "source": [
    "### Create 5 dummy files in source"
   ]
  },
  {
   "cell_type": "code",
   "execution_count": 95,
   "id": "6b62f991",
   "metadata": {},
   "outputs": [],
   "source": [
    "for i in range(5):\n",
    "    create_dummy_file(source_path/f\"{i}.dummy\",100)"
   ]
  },
  {
   "cell_type": "code",
   "execution_count": 66,
   "id": "06c4892d",
   "metadata": {},
   "outputs": [],
   "source": [
    "for i in range(5):\n",
    "    create_dummy_file(dest_path/f\"{i}.dummy\",50)"
   ]
  }
 ],
 "metadata": {
  "kernelspec": {
   "display_name": "Python 3 (ipykernel)",
   "language": "python",
   "name": "python3"
  },
  "language_info": {
   "codemirror_mode": {
    "name": "ipython",
    "version": 3
   },
   "file_extension": ".py",
   "mimetype": "text/x-python",
   "name": "python",
   "nbconvert_exporter": "python",
   "pygments_lexer": "ipython3",
   "version": "3.8.13"
  }
 },
 "nbformat": 4,
 "nbformat_minor": 5
}
