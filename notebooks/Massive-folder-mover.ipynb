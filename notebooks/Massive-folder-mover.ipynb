{
 "cells": [
  {
   "cell_type": "markdown",
   "id": "991dce62",
   "metadata": {},
   "source": [
    "# Define Paths"
   ]
  },
  {
   "cell_type": "code",
   "execution_count": 70,
   "id": "dfc96a60",
   "metadata": {},
   "outputs": [],
   "source": [
    "from pathlib import Path\n",
    "source_path = Path(\"W:/test-source\")\n",
    "dest_path = Path(\"W:/test-dest\")\n"
   ]
  },
  {
   "cell_type": "code",
   "execution_count": 98,
   "id": "9bd66b66",
   "metadata": {},
   "outputs": [
    {
     "data": {
      "text/plain": [
       "'Total moved: 4 files, 0.419 GB'"
      ]
     },
     "metadata": {},
     "output_type": "display_data"
    },
    {
     "data": {
      "text/plain": [
       "'Last file: 3.dummy (0.105 GB in 2.6349759101867676)'"
      ]
     },
     "metadata": {},
     "output_type": "display_data"
    },
    {
     "ename": "KeyboardInterrupt",
     "evalue": "",
     "output_type": "error",
     "traceback": [
      "\u001b[1;31m---------------------------------------------------------------------------\u001b[0m",
      "\u001b[1;31mKeyboardInterrupt\u001b[0m                         Traceback (most recent call last)",
      "Input \u001b[1;32mIn [98]\u001b[0m, in \u001b[0;36m<cell line: 12>\u001b[1;34m()\u001b[0m\n\u001b[0;32m     13\u001b[0m start \u001b[38;5;241m=\u001b[39m time\u001b[38;5;241m.\u001b[39mtime()\n\u001b[0;32m     14\u001b[0m \u001b[38;5;66;03m# if this is a folder check if its empty.\u001b[39;00m\n\u001b[1;32m---> 15\u001b[0m \u001b[38;5;28;01mif\u001b[39;00m \u001b[43msource_file\u001b[49m\u001b[38;5;241;43m.\u001b[39;49m\u001b[43mis_dir\u001b[49m\u001b[43m(\u001b[49m\u001b[43m)\u001b[49m:\n\u001b[0;32m     16\u001b[0m     \u001b[38;5;28;01mif\u001b[39;00m \u001b[38;5;129;01mnot\u001b[39;00m \u001b[38;5;28many\u001b[39m(source_file\u001b[38;5;241m.\u001b[39miterdir()):\n\u001b[0;32m     17\u001b[0m         source_file\u001b[38;5;241m.\u001b[39mrmdir()\n",
      "File \u001b[1;32m~\\anaconda3\\envs\\massive-move\\lib\\pathlib.py:1422\u001b[0m, in \u001b[0;36mPath.is_dir\u001b[1;34m(self)\u001b[0m\n\u001b[0;32m   1418\u001b[0m \u001b[38;5;124;03m\"\"\"\u001b[39;00m\n\u001b[0;32m   1419\u001b[0m \u001b[38;5;124;03mWhether this path is a directory.\u001b[39;00m\n\u001b[0;32m   1420\u001b[0m \u001b[38;5;124;03m\"\"\"\u001b[39;00m\n\u001b[0;32m   1421\u001b[0m \u001b[38;5;28;01mtry\u001b[39;00m:\n\u001b[1;32m-> 1422\u001b[0m     \u001b[38;5;28;01mreturn\u001b[39;00m S_ISDIR(\u001b[38;5;28;43mself\u001b[39;49m\u001b[38;5;241;43m.\u001b[39;49m\u001b[43mstat\u001b[49m\u001b[43m(\u001b[49m\u001b[43m)\u001b[49m\u001b[38;5;241m.\u001b[39mst_mode)\n\u001b[0;32m   1423\u001b[0m \u001b[38;5;28;01mexcept\u001b[39;00m \u001b[38;5;167;01mOSError\u001b[39;00m \u001b[38;5;28;01mas\u001b[39;00m e:\n\u001b[0;32m   1424\u001b[0m     \u001b[38;5;28;01mif\u001b[39;00m \u001b[38;5;129;01mnot\u001b[39;00m _ignore_error(e):\n",
      "File \u001b[1;32m~\\anaconda3\\envs\\massive-move\\lib\\pathlib.py:1198\u001b[0m, in \u001b[0;36mPath.stat\u001b[1;34m(self)\u001b[0m\n\u001b[0;32m   1193\u001b[0m \u001b[38;5;28;01mdef\u001b[39;00m \u001b[38;5;21mstat\u001b[39m(\u001b[38;5;28mself\u001b[39m):\n\u001b[0;32m   1194\u001b[0m     \u001b[38;5;124;03m\"\"\"\u001b[39;00m\n\u001b[0;32m   1195\u001b[0m \u001b[38;5;124;03m    Return the result of the stat() system call on this path, like\u001b[39;00m\n\u001b[0;32m   1196\u001b[0m \u001b[38;5;124;03m    os.stat() does.\u001b[39;00m\n\u001b[0;32m   1197\u001b[0m \u001b[38;5;124;03m    \"\"\"\u001b[39;00m\n\u001b[1;32m-> 1198\u001b[0m     \u001b[38;5;28;01mreturn\u001b[39;00m \u001b[38;5;28;43mself\u001b[39;49m\u001b[38;5;241;43m.\u001b[39;49m\u001b[43m_accessor\u001b[49m\u001b[38;5;241;43m.\u001b[39;49m\u001b[43mstat\u001b[49m\u001b[43m(\u001b[49m\u001b[38;5;28;43mself\u001b[39;49m\u001b[43m)\u001b[49m\n",
      "\u001b[1;31mKeyboardInterrupt\u001b[0m: "
     ]
    }
   ],
   "source": [
    "import filecmp\n",
    "from tqdm.notebook import tqdm\n",
    "from IPython.display import display, clear_output\n",
    "import shutil\n",
    "import time\n",
    "\n",
    "# ensure destination folder exists.\n",
    "dest_path.mkdir(parents=True, exist_ok=True)\n",
    "# get all files.\n",
    "total_moved_gb = 0\n",
    "total_moved_files = 0\n",
    "for source_file in source_path.rglob('*'):\n",
    "    start = time.time()\n",
    "    # if this is a folder check if its empty.\n",
    "    if source_file.is_dir():\n",
    "        if not any(source_file.iterdir()):\n",
    "            source_file.rmdir()\n",
    "    # check if file.\n",
    "    if source_file.is_file():\n",
    "        # Get relative file path.\n",
    "        relative_file_path = source_file.relative_to(source_path)\n",
    "        destination_file = dest_path/relative_file_path\n",
    "        # check if file already exists.\n",
    "        if destination_file.is_file():\n",
    "            # check if files are the same size.\n",
    "            if filecmp.cmp(source_file,destination_file,shallow=True):\n",
    "                # delete source file.\n",
    "                remove_file = True\n",
    "                move_file = False\n",
    "            else:\n",
    "                remove_file = False\n",
    "                move_file = True\n",
    "        # file not yet present\n",
    "        else:\n",
    "            remove_file = False\n",
    "            move_file = True\n",
    "        # copy file.\n",
    "        if move_file:\n",
    "            # check if directory exists.\n",
    "            destination_file.parent.mkdir(parents=True, exist_ok=True)\n",
    "            shutil.copy2(source_file,destination_file)\n",
    "            # check succesfull copy.\n",
    "            if filecmp.cmp(source_file,destination_file,shallow=True):\n",
    "                remove_file = True\n",
    "            else:\n",
    "                remove_file = False\n",
    "    if remove_file:\n",
    "        total_moved_files+=1\n",
    "        file_size_gb = source_file.stat().st_size*10**-9\n",
    "        total_moved_gb += file_size_gb\n",
    "        source_file.unlink()\n",
    "        clear_output(wait=True)\n",
    "        display(f\"Total moved: {total_moved_files} files, {total_moved_gb:.3f} GB\")\n",
    "        display(f\"Last file: {relative_file_path} ({file_size_gb:.3f} GB in {time.time()-start:.2f} seconds)\")"
   ]
  },
  {
   "cell_type": "markdown",
   "id": "8b0f3e1a",
   "metadata": {},
   "source": [
    "# Appendix\n",
    "## Create test data"
   ]
  },
  {
   "cell_type": "code",
   "execution_count": 15,
   "id": "72b282c8",
   "metadata": {},
   "outputs": [],
   "source": [
    "def create_dummy_file(file_loc,file_size_mb):\n",
    "    with open(file_loc, 'wb') as f:\n",
    "        f.seek(file_size_mb * 1024 * 1024) # One GB\n",
    "        f.write(b'\\x21')"
   ]
  },
  {
   "cell_type": "markdown",
   "id": "53ccf6fe",
   "metadata": {},
   "source": [
    "### Create 5 dummy files in source"
   ]
  },
  {
   "cell_type": "code",
   "execution_count": 97,
   "id": "6b62f991",
   "metadata": {},
   "outputs": [],
   "source": [
    "for i in range(5):\n",
    "    create_dummy_file(source_path/f\"{i}.dummy\",100)"
   ]
  },
  {
   "cell_type": "code",
   "execution_count": 66,
   "id": "0c091ba4",
   "metadata": {},
   "outputs": [],
   "source": [
    "for i in range(5):\n",
    "    create_dummy_file(dest_path/f\"{i}.dummy\",50)"
   ]
  }
 ],
 "metadata": {
  "kernelspec": {
   "display_name": "Python 3 (ipykernel)",
   "language": "python",
   "name": "python3"
  },
  "language_info": {
   "codemirror_mode": {
    "name": "ipython",
    "version": 3
   },
   "file_extension": ".py",
   "mimetype": "text/x-python",
   "name": "python",
   "nbconvert_exporter": "python",
   "pygments_lexer": "ipython3",
   "version": "3.8.13"
  }
 },
 "nbformat": 4,
 "nbformat_minor": 5
}
