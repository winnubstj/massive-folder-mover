{
 "cells": [
  {
   "cell_type": "markdown",
   "id": "a056f692",
   "metadata": {},
   "source": [
    "Note: due to problem with symbolic links lookups and permission(shortcuts) these files are simply removed."
   ]
  },
  {
   "cell_type": "markdown",
   "id": "991dce62",
   "metadata": {},
   "source": [
    "# Define Paths"
   ]
  },
  {
   "cell_type": "code",
   "execution_count": 2,
   "id": "dfc96a60",
   "metadata": {},
   "outputs": [],
   "source": [
    "from pathlib import Path\n",
    "source_path = Path(\"X:/Nearline Spruston 2020\")\n",
    "dest_path = Path(\"Z:/Legacy nearline backup/Nearline Spruston 2020\")\n"
   ]
  },
  {
   "cell_type": "code",
   "execution_count": null,
   "id": "52efd7a1",
   "metadata": {},
   "outputs": [
    {
     "data": {
      "text/plain": [
       "'Total moved: 97 files, 0.001 GB'"
      ]
     },
     "metadata": {},
     "output_type": "display_data"
    },
    {
     "data": {
      "text/plain": [
       "'Last file: from_tier2\\\\sat\\\\240624_3\\\\trakem2.1398465726479.566294465.1138556591\\\\trakem2.mipmaps\\\\4\\\\12\\\\38\\\\25.A3_60_2.tif.rag (0.000 GB in 1.57 seconds)'"
      ]
     },
     "metadata": {},
     "output_type": "display_data"
    }
   ],
   "source": [
    "import filecmp\n",
    "from IPython.display import display, clear_output\n",
    "import shutil\n",
    "import time\n",
    "import glob\n",
    "\n",
    "def unlink(file_obj,attempts=5):\n",
    "    success=False\n",
    "    attempt=0\n",
    "    while success==False & attempt<attempts:\n",
    "        try:\n",
    "            file_obj.unlink()\n",
    "            success=True\n",
    "        except:\n",
    "            attempt+=1\n",
    "            time.sleep(3)\n",
    "    if success==False:\n",
    "        raise NameError(f\"Could not unlink {file_obj} after {attempt} attempts\")\n",
    "    #print(f\"Unlink {file_obj}: {success} - {attempt}\")\n",
    "\n",
    "def copy(source_obj, destination_obj,attempts=5):\n",
    "    success=False\n",
    "    attempt=0\n",
    "    while success==False & attempt<attempts:\n",
    "        try:\n",
    "            shutil.copy2(source_obj, destination_obj)\n",
    "            success=True\n",
    "        except:\n",
    "            attempt+=1\n",
    "            time.sleep(3)\n",
    "    if success==False:\n",
    "        raise NameError(f\"Could not copy {source_obj} after {attempt} attempts\")\n",
    "    #print(f\"Copy {file_obj}: {success} - {attempt}\")\n",
    "\n",
    "def stat(source_obj, attempts=5):\n",
    "    success=False\n",
    "    attempt=0\n",
    "    stat = None\n",
    "    while success==False & attempt<attempts:\n",
    "        try:\n",
    "            stat = source_obj.stat()\n",
    "            success=True\n",
    "        except:\n",
    "            attempt+=1\n",
    "            time.sleep(3)\n",
    "    if success==False:\n",
    "        raise NameError(f\"Could not get stats {file_obj} after {attempt} attempts\")\n",
    "    return stat\n",
    "\n",
    "def cmp(source_obj, destination_obj, attempts=5):\n",
    "    success=False\n",
    "    attempt=0\n",
    "    while success==False & attempt<attempts:\n",
    "        try:\n",
    "            is_equal = filecmp.cmp(source_obj,destination_obj,shallow=True)\n",
    "            success=True\n",
    "        except:\n",
    "            attempt+=1\n",
    "            time.sleep(3)\n",
    "    if success==False:\n",
    "        raise NameError(f\"Could not compare {source_obj} after {attempt} attempts\")\n",
    "    else:\n",
    "        return is_equal\n",
    "\n",
    "# ensure destination folder exists.\n",
    "dest_path.mkdir(parents=True, exist_ok=True)\n",
    "# get all files.\n",
    "total_moved_gb = 0\n",
    "total_moved_files = 0\n",
    "for source_file_str in glob.iglob((source_path/'**').as_posix(), recursive=True):\n",
    "    start = time.time()\n",
    "    source_file = Path(source_file_str)\n",
    "    # check file types\n",
    "    is_symlink = source_file.is_symlink()\n",
    "    if is_symlink:\n",
    "        is_file = True # treat symlink as file, shutil  opy follow_symlinks=False\n",
    "        is_dir = False\n",
    "    else:\n",
    "        is_file = source_file.is_file()\n",
    "        is_dir = source_file.is_dir()     \n",
    "        \n",
    "\n",
    "    # if this is a folder check if its empty.\n",
    "    if is_dir:\n",
    "        if not any(source_file.iterdir()):\n",
    "            source_file.rmdir()\n",
    "    # check if file.\n",
    "    if is_file:\n",
    "        # Get relative file path.\n",
    "        relative_file_path = source_file.relative_to(source_path)\n",
    "        destination_file = dest_path/relative_file_path\n",
    "        # check if file already exists.\n",
    "        if destination_file.is_file():\n",
    "            # check if files are the same size.\n",
    "            if filecmp.cmp(source_file,destination_file,shallow=True):\n",
    "                # delete source file.\n",
    "                remove_file = True\n",
    "                move_file = False\n",
    "            else:\n",
    "                remove_file = False\n",
    "                move_file = True\n",
    "        # file not yet present\n",
    "        else:\n",
    "            remove_file = False\n",
    "            move_file = True\n",
    "        # copy file.\n",
    "        if move_file & (is_symlink==False):\n",
    "            # check if directory exists.\n",
    "            destination_file.parent.mkdir(parents=True, exist_ok=True)\n",
    "            copy(source_file,destination_file)\n",
    "            # check succesfull copy.\n",
    "            if cmp(source_file,destination_file):\n",
    "                remove_file = True\n",
    "            else:\n",
    "                remove_file = False\n",
    "        if remove_file | is_symlink:\n",
    "            total_moved_files+=1\n",
    "            if not is_symlink: file_size_gb = stat(source_file).st_size*10**-9\n",
    "            else: file_size_gb = 0\n",
    "            total_moved_gb += file_size_gb\n",
    "            unlink(source_file)\n",
    "            clear_output(wait=True)\n",
    "            display(f\"Total moved: {total_moved_files} files, {total_moved_gb:.3f} GB\")\n",
    "            display(f\"Last file: {relative_file_path} ({file_size_gb:.3f} GB in {time.time()-start:.2f} seconds)\")"
   ]
  },
  {
   "cell_type": "markdown",
   "id": "8b0f3e1a",
   "metadata": {},
   "source": [
    "# Appendix\n",
    "## Create test data"
   ]
  },
  {
   "cell_type": "code",
   "execution_count": 15,
   "id": "72b282c8",
   "metadata": {},
   "outputs": [],
   "source": [
    "def create_dummy_file(file_loc,file_size_mb):\n",
    "    with open(file_loc, 'wb') as f:\n",
    "        f.seek(file_size_mb * 1024 * 1024) # One GB\n",
    "        f.write(b'\\x21')"
   ]
  },
  {
   "cell_type": "markdown",
   "id": "53ccf6fe",
   "metadata": {},
   "source": [
    "### Create 5 dummy files in source"
   ]
  },
  {
   "cell_type": "code",
   "execution_count": 100,
   "id": "6b62f991",
   "metadata": {},
   "outputs": [],
   "source": [
    "for i in range(5):\n",
    "    create_dummy_file(source_path/f\"{i}.dummy\",100)"
   ]
  },
  {
   "cell_type": "code",
   "execution_count": 66,
   "id": "dfed9347",
   "metadata": {},
   "outputs": [],
   "source": [
    "for i in range(5):\n",
    "    create_dummy_file(dest_path/f\"{i}.dummy\",50)"
   ]
  }
 ],
 "metadata": {
  "kernelspec": {
   "display_name": "Python 3 (ipykernel)",
   "language": "python",
   "name": "python3"
  },
  "language_info": {
   "codemirror_mode": {
    "name": "ipython",
    "version": 3
   },
   "file_extension": ".py",
   "mimetype": "text/x-python",
   "name": "python",
   "nbconvert_exporter": "python",
   "pygments_lexer": "ipython3",
   "version": "3.8.13"
  }
 },
 "nbformat": 4,
 "nbformat_minor": 5
}
